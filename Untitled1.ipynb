{
 "metadata": {
  "name": "",
  "signature": "sha256:ec9ab1ac46375609dd689c07b8af37819a477f836774ab6f1da05331effbb34e"
 },
 "nbformat": 3,
 "nbformat_minor": 0,
 "worksheets": []
}