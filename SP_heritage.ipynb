{
 "metadata": {
  "name": "",
  "signature": "sha256:ec66eeb2644cff1d47ad87f1a1f4f7b06fe8e87eb3462991963c650729c307f3"
 },
 "nbformat": 3,
 "nbformat_minor": 0,
 "worksheets": [
  {
   "cells": [
    {
     "cell_type": "code",
     "collapsed": false,
     "input": [
      "# Introducci\u00f3n \n",
      "\n",
      "\"\"\"Este proyecto se trata de un trabajo de corpus sobre las diferencias ling\u00fc\u00edsticas entre hablantes de herencia, hablantes \n",
      "nativos y hablantes de segunda lengua\"\"\"\n",
      "\n",
      "\n",
      "## Adquisici\u00f3n de los dados para los hablantes nativos\n",
      "import requests\n",
      "import zipfile\n",
      "import StringIO\n",
      "\n",
      "zip_file_url = 'http://lenguajeacademico.info/proyecto/corpus_CLAE.zip'\n",
      "r = requests.get(zip_file_url)\n",
      "z = zipfile.ZipFile(StringIO.StringIO(r.content))\n",
      "z.extractall()\n",
      "\n",
      "%cd corpus_CLAE/\n",
      "%rm C*.txt\n",
      "%ls"
     ],
     "language": "python",
     "metadata": {},
     "outputs": [
      {
       "output_type": "stream",
       "stream": "stdout",
       "text": [
        "/Users/christopherstewart/Desktop/sp_heritage/1.1/corpus_CLAE\n"
       ]
      },
      {
       "output_type": "stream",
       "stream": "stdout",
       "text": [
        "MGEn1.txt     MGRm19.txt    MHPr12.txt    MHRm4.txt     MLtEn7.txt\r\n",
        "MGEn10.txt    MGRm2.txt     MHPr13.txt    MHRm5.txt     MLtEn8.txt\r\n",
        "MGEn11.txt    MGRm20.txt    MHPr14.txt    MHRm6.txt     MLtEn9.txt\r\n",
        "MGEn12.txt    MGRm3.txt     MHPr2.txt     MHRm7.txt     MLtPr1.txt\r\n",
        "MGEn13.txt    MGRm4.txt     MHPr3.txt     MHRm8.txt     MLtPr10.txt\r\n",
        "MGEn14.txt    MGRm5.txt     MHPr4.txt     MHRm9.txt     MLtPr11.txt\r\n",
        "MGEn15.txt    MGRm6.txt     MHPr5.txt     MLtEn1.txt    MLtPr12.txt\r\n",
        "MGEn16.txt    MGRm7.txt     MHPr6.txt     MLtEn10.txt   MLtPr13.txt\r\n",
        "MGEn17.txt    MGRm8.txt     MHPr7.txt     MLtEn11.txt   MLtPr14.txt\r\n",
        "MGEn18.txt    MGRm9.txt     MHPr8.txt     MLtEn12.txt   MLtPr15.txt\r\n",
        "MGEn19.txt    MGRp1.txt     MHPr9.txt     MLtEn13.txt   MLtPr2.txt\r\n",
        "MGEn2.txt     MGRp2.txt     MHRm1.txt     MLtEn14.txt   MLtPr3.txt\r\n",
        "MGEn20.txt    MGRp3.txt     MHRm11.txt    MLtEn15.txt   MLtPr4.txt\r\n",
        "MGEn3.txt     MGRp4.txt     MHRm12.txt    MLtEn16.txt   MLtPr5.txt\r\n",
        "MGEn4.txt     MGRp5.txt     MHRm13.txt    MLtEn17.txt   MLtPr6.txt\r\n",
        "MGEn5.txt     MGRp6.txt     MHRm14.txt    MLtEn18.txt   MLtPr7.txt\r\n",
        "MGEn6.txt     MGRp8.txt     MHRm15.txt    MLtEn19.txt   MLtPr8.txt\r\n",
        "MGEn8.txt     MGRp9.txt     MHRm17.txt    MLtEn2.txt    MLtPr9.txt\r\n",
        "MGEn9.txt     MHEn1.txt     MHRm18.txt    MLtEn20.txt   MLtRes1.txt\r\n",
        "MGRm1.txt     MHEn11.txt    MHRm19.txt    MLtEn21.txt   MLtRes10.txt\r\n",
        "MGRm10.txt    MHEn12.txt    MHRm2.txt     MLtEn22.txt   MLtRes11.txt\r\n",
        "MGRm11.txt    MHEn3.txt     MHRm20.txt    MLtEn23.txt   MLtRes2.txt\r\n",
        "MGRm12.txt    MHEn5.txt     MHRm21.txt    MLtEn24.txt   MLtRes3.txt\r\n",
        "MGRm13.txt    MHEn7.txt     MHRm22.txt    MLtEn25.txt   MLtRes4.txt\r\n",
        "MGRm14.txt    MHEn8.txt     MHRm23.txt    MLtEn26.txt   MLtRes5.txt\r\n",
        "MGRm15.txt    MHEn9.txt     MHRm24.txt    MLtEn3.txt    MLtRes6.txt\r\n",
        "MGRm16.txt    MHPr1.txt     MHRm25.txt    MLtEn4.txt    MLtRes7.txt\r\n",
        "MGRm17.txt    MHPr10.txt    MHRm26.txt    MLtEn5.txt    MLtRes8.txt\r\n",
        "MGRm18.txt    MHPr11.txt    MHRm3.txt     MLtEn6.txt    MLtRes9.txt\r\n"
       ]
      }
     ],
     "prompt_number": 1
    },
    {
     "cell_type": "code",
     "collapsed": false,
     "input": [
      "## Contrucci\u00f3n del corpus (tokenization)\n",
      "\n",
      "from __future__ import division\n",
      "import nltk, re, pprint\n",
      "from nltk.corpus import PlaintextCorpusReader\n",
      "from nltk import FreqDist\n",
      "from nltk.util import ngrams\n",
      "\n",
      "corpus_root = '/Users/christopherstewart/Desktop/sp_heritage/1.1/corpus_CLAE'\n",
      "wordlists = PlaintextCorpusReader(corpus_root, '.*')\n",
      "words = wordlists.words()\n",
      "fdist = FreqDist(words)\n",
      "bigram_fd = FreqDist(nltk.bigrams(words))\n",
      "trigram_fd = FreqDist(nltk.trigrams(words))\n",
      "tetragram_fdist = FreqDist(w for w in tetragrams)"
     ],
     "language": "python",
     "metadata": {},
     "outputs": [],
     "prompt_number": 34
    },
    {
     "cell_type": "code",
     "collapsed": false,
     "input": [
      "## Ilustraci\u00f3n de las distribuci\u00f3nes\n",
      "\n",
      "bigram_fd.plot(10, cumulative=True)"
     ],
     "language": "python",
     "metadata": {},
     "outputs": [],
     "prompt_number": 35
    },
    {
     "cell_type": "code",
     "collapsed": false,
     "input": [],
     "language": "python",
     "metadata": {},
     "outputs": [],
     "prompt_number": 7
    },
    {
     "cell_type": "code",
     "collapsed": false,
     "input": [],
     "language": "python",
     "metadata": {},
     "outputs": []
    }
   ],
   "metadata": {}
  }
 ]
}